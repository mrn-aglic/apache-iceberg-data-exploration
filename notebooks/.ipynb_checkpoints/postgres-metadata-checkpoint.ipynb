{
 "cells": [
  {
   "cell_type": "code",
   "execution_count": null,
   "id": "694fd852-8c95-411f-864c-919941ba9d22",
   "metadata": {
    "tags": []
   },
   "outputs": [],
   "source": [
    "from pyspark.sql import SparkSession\n",
    "from pyspark.sql.types import StructType,StructField, StringType, IntegerType"
   ]
  },
  {
   "cell_type": "code",
   "execution_count": null,
   "id": "30542263-049f-49aa-9ca1-c821d5cf818e",
   "metadata": {
    "tags": []
   },
   "outputs": [],
   "source": [
    "spark = SparkSession.builder.appName(\"Jupyter\").getOrCreate()\n",
    "\n",
    "spark.stop()"
   ]
  },
  {
   "cell_type": "code",
   "execution_count": null,
   "id": "7966e2ac-4acb-4fb4-9943-352fdeaf4b71",
   "metadata": {
    "tags": []
   },
   "outputs": [],
   "source": [
    "spark = SparkSession.builder.appName(\"Jupyter\").getOrCreate()\n",
    "\n",
    "spark"
   ]
  },
  {
   "cell_type": "code",
   "execution_count": null,
   "id": "ebce8acc-912a-4e17-a0af-805dc7117570",
   "metadata": {
    "tags": []
   },
   "outputs": [],
   "source": [
    "data = [(\"James\",\"\",\"Smith\",\"36636\",\"M\",3000),\n",
    "    (\"Michael\",\"Rose\",\"\",\"40288\",\"M\",4000),\n",
    "    (\"Robert\",\"\",\"Williams\",\"42114\",\"M\",4000),\n",
    "    (\"Maria\",\"Anne\",\"Jones\",\"39192\",\"F\",4000),\n",
    "    (\"Jen\",\"Mary\",\"Brown\",\"\",\"F\",-1)\n",
    "  ]\n",
    "\n",
    "schema = StructType([ \\\n",
    "    StructField(\"fn\",StringType(),True), \\\n",
    "    StructField(\"mid\",StringType(),True), \\\n",
    "    StructField(\"lastname\",StringType(),True), \\\n",
    "    StructField(\"id\", StringType(), True), \\\n",
    "    StructField(\"gender\", StringType(), True), \\\n",
    "    StructField(\"salary\", IntegerType(), True) \\\n",
    "  ])"
   ]
  },
  {
   "cell_type": "code",
   "execution_count": null,
   "id": "6d06e12f-ec86-4935-a065-68901e98c8b9",
   "metadata": {
    "tags": []
   },
   "outputs": [],
   "source": [
    "data"
   ]
  },
  {
   "cell_type": "code",
   "execution_count": null,
   "id": "555b9977-8792-4476-8110-25f62bd981ff",
   "metadata": {
    "tags": []
   },
   "outputs": [],
   "source": [
    "df = spark.createDataFrame(data=data, schema=schema)\n",
    "df.printSchema()"
   ]
  },
  {
   "cell_type": "code",
   "execution_count": null,
   "id": "56bce0e3-bbc1-4531-ad29-6d7a36eea73c",
   "metadata": {
    "tags": []
   },
   "outputs": [],
   "source": [
    "df.writeTo(\"db.catalog_test\").createOrReplace()"
   ]
  },
  {
   "cell_type": "code",
   "execution_count": null,
   "id": "b5d3c232-1ab7-46a8-9632-533ba7186510",
   "metadata": {
    "tags": []
   },
   "outputs": [],
   "source": [
    "res = spark.sql(\"SELECT * FROM db.catalog_test\")\n",
    "res.show()"
   ]
  },
  {
   "cell_type": "code",
   "execution_count": null,
   "id": "1fd4c30e-495a-4a02-8b1b-f843ad94e1fd",
   "metadata": {
    "tags": []
   },
   "outputs": [],
   "source": [
    "spark.sql(\"ALTER TABLE db.catalog_test RENAME TO db.pg_catalog;\")"
   ]
  },
  {
   "cell_type": "code",
   "execution_count": null,
   "id": "b299eb57-bd43-4e3f-8afa-9394fe08743b",
   "metadata": {
    "tags": []
   },
   "outputs": [],
   "source": [
    "spark.sql(\"ALTER TABLE db.pg_catalog SET TBLPROPERTIES ('comment' = 'Learning Iceberg.')\")"
   ]
  },
  {
   "cell_type": "code",
   "execution_count": null,
   "id": "813ad05c-4b61-4852-8bcf-50c2a118febc",
   "metadata": {
    "tags": []
   },
   "outputs": [],
   "source": [
    "spark.sql(\"ALTER TABLE db.pg_catalog RENAME COLUMN fn TO firstname\")\n",
    "spark.sql(\"ALTER TABLE db.pg_catalog RENAME COLUMN mid TO middlename\")"
   ]
  },
  {
   "cell_type": "code",
   "execution_count": null,
   "id": "a7e1ac02-24bd-47e1-a286-cb66be81729f",
   "metadata": {
    "tags": []
   },
   "outputs": [],
   "source": [
    "new_data = [(\"New James\",\"\",\"Smith\",\"36646\", \"M\", 50),\n",
    "  ]\n",
    "\n",
    "schema = StructType([ \\\n",
    "    StructField(\"firstname\",StringType(),True), \\\n",
    "    StructField(\"middlename\",StringType(),True), \\\n",
    "    StructField(\"lastname\",StringType(),True), \\\n",
    "    StructField(\"id\", StringType(), True), \\\n",
    "    StructField(\"gender\", StringType(), True), \\\n",
    "    StructField(\"salary\", IntegerType(), True) \\\n",
    "  ])\n",
    "\n",
    "df = spark.createDataFrame(data=new_data, schema=schema)\n",
    "df.writeTo(\"db.pg_metadata\").append()\n",
    "\n",
    "res = spark.sql(\"SELECT * FROM db.pg_metadata\")\n",
    "res.show()"
   ]
  },
  {
   "cell_type": "code",
   "execution_count": null,
   "id": "f320d9ae-22b0-4966-ad3c-0802100db3cf",
   "metadata": {
    "tags": []
   },
   "outputs": [],
   "source": [
    "res = spark.sql(\"SELECT * FROM db.pg_metadata.snapshots\")\n",
    "res.show(truncate=False)"
   ]
  },
  {
   "cell_type": "code",
   "execution_count": null,
   "id": "e81da59f-c77f-4d02-a52a-05c0a87f4483",
   "metadata": {
    "tags": []
   },
   "outputs": [],
   "source": [
    "res = spark.sql(\"SELECT file_path FROM db.pg_metadata.files\")\n",
    "res.show(truncate=False)"
   ]
  },
  {
   "cell_type": "code",
   "execution_count": null,
   "id": "986f3ae0-c4b6-4de5-80ab-44556c76f106",
   "metadata": {
    "tags": []
   },
   "outputs": [],
   "source": [
    "res = spark.sql(\"SELECT content, path, added_data_files_count, added_snapshot_id FROM db.pg_metadata.manifests\")\n",
    "res.show(truncate=False)"
   ]
  },
  {
   "cell_type": "code",
   "execution_count": null,
   "id": "7af64035-cee1-4003-a3bd-e1b6862ddace",
   "metadata": {
    "tags": []
   },
   "outputs": [],
   "source": [
    "res = spark.sql(\"SELECT committed_at, manifest_list FROM db.pg_metadata.snapshots\")\n",
    "res.show(truncate=False)"
   ]
  },
  {
   "cell_type": "code",
   "execution_count": null,
   "id": "2f0fd290-4e2d-443c-814c-ea65b7e368f4",
   "metadata": {
    "tags": []
   },
   "outputs": [],
   "source": [
    "res = spark.sql(\"SELECT * FROM db.pg_metadata.manifests\")\n",
    "res.show(truncate=False)"
   ]
  },
  {
   "cell_type": "code",
   "execution_count": null,
   "id": "fb9bb08e-33fa-449b-8b61-83a84cf1e7f1",
   "metadata": {
    "tags": []
   },
   "outputs": [],
   "source": [
    "spark.catalog"
   ]
  },
  {
   "cell_type": "code",
   "execution_count": null,
   "id": "97d02afa-a3a2-4553-8074-3514b3778c49",
   "metadata": {
    "tags": []
   },
   "outputs": [],
   "source": [
    "spark.catalog.currentDatabase()"
   ]
  },
  {
   "cell_type": "code",
   "execution_count": null,
   "id": "c0cf36c8-c320-4bfa-9e5b-80843814b03a",
   "metadata": {
    "tags": []
   },
   "outputs": [],
   "source": [
    "spark.catalog.listTables()"
   ]
  },
  {
   "cell_type": "code",
   "execution_count": null,
   "id": "a0b91051-7a13-4fb2-9a94-ea83c43b3ee6",
   "metadata": {
    "tags": []
   },
   "outputs": [],
   "source": [
    "spark.catalog.listDatabases()"
   ]
  },
  {
   "cell_type": "code",
   "execution_count": null,
   "id": "749ba2f8-f330-4d08-8d1d-c8f8882ba995",
   "metadata": {
    "tags": []
   },
   "outputs": [],
   "source": [
    "spark.sql('show databases').show()"
   ]
  },
  {
   "cell_type": "code",
   "execution_count": null,
   "id": "536b3118-6b54-404a-9561-1d94b49dbede",
   "metadata": {
    "tags": []
   },
   "outputs": [],
   "source": [
    "spark.catalog.currentDatabase()"
   ]
  },
  {
   "cell_type": "code",
   "execution_count": null,
   "id": "39b1de4a-9a3d-4cf7-a4b1-7c374f32b2d3",
   "metadata": {
    "tags": []
   },
   "outputs": [],
   "source": [
    "spark.catalog.listTables('db')"
   ]
  },
  {
   "cell_type": "code",
   "execution_count": null,
   "id": "f031ddb2-0531-46c1-8b71-0c85b04bfc3b",
   "metadata": {
    "tags": []
   },
   "outputs": [],
   "source": [
    "spark.sql('show tables from db').show()"
   ]
  },
  {
   "cell_type": "code",
   "execution_count": null,
   "id": "90c5bfe5-ad34-4d0d-b06c-1844711b9f44",
   "metadata": {
    "tags": []
   },
   "outputs": [],
   "source": [
    "spark.catalog.listCatalog()"
   ]
  },
  {
   "cell_type": "code",
   "execution_count": null,
   "id": "2736df5e-f5fc-46c9-a99f-8068f78f7c20",
   "metadata": {
    "tags": []
   },
   "outputs": [],
   "source": [
    "# spark.stop()"
   ]
  },
  {
   "cell_type": "code",
   "execution_count": null,
   "id": "e0d6e63f-3392-463b-845b-e96f339a7a14",
   "metadata": {},
   "outputs": [],
   "source": [
    "data = [(\"James\",\"\",\"Smith\",\"36636\",\"M\",3000),\n",
    "    (\"Michael\",\"Rose\",\"\",\"40288\",\"M\",4000),\n",
    "    (\"Robert\",\"\",\"Williams\",\"42114\",\"M\",4000),\n",
    "    (\"Maria\",\"Anne\",\"Jones\",\"39192\",\"F\",4000),\n",
    "    (\"Jen\",\"Mary\",\"Brown\",\"\",\"F\",-1)\n",
    "  ]"
   ]
  }
 ],
 "metadata": {
  "kernelspec": {
   "display_name": "Python 3 (ipykernel)",
   "language": "python",
   "name": "python3"
  },
  "language_info": {
   "codemirror_mode": {
    "name": "ipython",
    "version": 3
   },
   "file_extension": ".py",
   "mimetype": "text/x-python",
   "name": "python",
   "nbconvert_exporter": "python",
   "pygments_lexer": "ipython3",
   "version": "3.10.11"
  }
 },
 "nbformat": 4,
 "nbformat_minor": 5
}
